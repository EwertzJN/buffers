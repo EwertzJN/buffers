{
 "cells": [
  {
   "cell_type": "markdown",
   "id": "c980d9bb-57b6-42f4-9c13-4de6d34bef2b",
   "metadata": {},
   "source": [
    "# Multi-process data loading\n",
    "To increase the sampling speed, specifically for datasets with CPU-bound retrieval operations (e.g. file reading), parallelized data loading can be used."
   ]
  },
  {
   "cell_type": "code",
   "execution_count": 1,
   "id": "6b23ca4a-df2f-4905-a437-cbeb3474cabd",
   "metadata": {},
   "outputs": [],
   "source": [
    "from buffers import ReplayBuffer\n",
    "from buffers.dataset import IndividualFileDataset\n",
    "\n",
    "NUM_WORKERS = (0, 2, 4, 8, 16)\n",
    "BATCH_SIZE = 512\n",
    "NUM_CALLS = 16\n",
    "\n",
    "replay_buffers = [ReplayBuffer(IndividualFileDataset(10000), batch_size=BATCH_SIZE, sequence_length=8, num_workers=nw) for nw in NUM_WORKERS]"
   ]
  },
  {
   "cell_type": "code",
   "execution_count": 2,
   "id": "fc2d93c8-4eb8-4b78-9251-91eb26233693",
   "metadata": {},
   "outputs": [
    {
     "name": "stderr",
     "output_type": "stream",
     "text": [
      "/home/user/mosbach/anaconda3/envs/lsa/lib/python3.10/site-packages/gym/utils/passive_env_checker.py:233: DeprecationWarning: `np.bool8` is a deprecated alias for `np.bool_`.  (Deprecated NumPy 1.24)\n",
      "  if not isinstance(terminated, (bool, np.bool8)):\n"
     ]
    }
   ],
   "source": [
    "from utils import add_sample_data\n",
    "\n",
    "for rb in replay_buffers:\n",
    "    add_sample_data(rb, num_steps=200 * max(NUM_WORKERS)) # Have at least as many episodes as num_workers.\n",
    "\n",
    "# Initialize dataloader on first sampling operation.\n",
    "for rb in replay_buffers:\n",
    "    _ = rb.sample()"
   ]
  },
  {
   "cell_type": "code",
   "execution_count": 3,
   "id": "8c37a1f8-81a7-42d8-807e-bf348f444af7",
   "metadata": {},
   "outputs": [],
   "source": [
    "from utils import StopWatch\n",
    "\n",
    "stopwatch = StopWatch()\n",
    "\n",
    "for nw, rb in zip(NUM_WORKERS, replay_buffers):\n",
    "    @stopwatch.get_duration(name=f\"{nw}_workers\")\n",
    "    def sample():\n",
    "        _ = rb.sample()\n",
    "\n",
    "    for _ in range(NUM_CALLS):\n",
    "        sample()"
   ]
  },
  {
   "cell_type": "code",
   "execution_count": 4,
   "id": "2a31217a-fc2d-4aba-aaa0-8e594cc14a0a",
   "metadata": {},
   "outputs": [
    {
     "name": "stdout",
     "output_type": "stream",
     "text": [
      "+------------+------------------------+-----------------------+------------------------+---------+\n",
      "|   Function |    Avg Duration (s)    |    Min Duration (s)   |    Max Duration (s)    | Calls # |\n",
      "+------------+------------------------+-----------------------+------------------------+---------+\n",
      "|  0_workers |  0.31592419743537903   |   0.289478063583374   |   0.3535332679748535   |    16   |\n",
      "|  2_workers |  0.16262350976467133   |  5.7220458984375e-05  |   0.5968260765075684   |    16   |\n",
      "|  4_workers |   0.0892651379108429   |  8.0108642578125e-05  |   0.7194643020629883   |    16   |\n",
      "|  8_workers | 0.0001093447208404541  |  5.7220458984375e-05  | 0.0001842975616455078  |    16   |\n",
      "| 16_workers | 0.00010056793689727783 | 6.937980651855469e-05 | 0.00016188621520996094 |    16   |\n",
      "+------------+------------------------+-----------------------+------------------------+---------+\n"
     ]
    }
   ],
   "source": [
    "print(stopwatch)"
   ]
  }
 ],
 "metadata": {
  "kernelspec": {
   "display_name": "Python 3 (ipykernel)",
   "language": "python",
   "name": "python3"
  },
  "language_info": {
   "codemirror_mode": {
    "name": "ipython",
    "version": 3
   },
   "file_extension": ".py",
   "mimetype": "text/x-python",
   "name": "python",
   "nbconvert_exporter": "python",
   "pygments_lexer": "ipython3",
   "version": "3.10.13"
  }
 },
 "nbformat": 4,
 "nbformat_minor": 5
}
