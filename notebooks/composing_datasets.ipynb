{
 "cells": [
  {
   "cell_type": "markdown",
   "id": "5822563e-5b90-4d8d-802e-c32546a7795e",
   "metadata": {},
   "source": [
    "# Composing Datasets\n",
    "Different datasets have complementary strenghts and weaknesses. \n",
    "Storing episodes in contiguous memory (e.g. `RingBufferDataset`) allows for rapid sampling, while writing episodes to disk (e.g. `IndividualFileDataset`) conserves (V)RAM.\n",
    "For large-scale training, we may want to combine such complementary properties, sampling from a smaller faster dataset, while storing all experience in a larger, but slower buffer."
   ]
  },
  {
   "cell_type": "code",
   "execution_count": 1,
   "id": "f8a3d8b4-ad9d-49e2-a718-56585f7b3218",
   "metadata": {},
   "outputs": [],
   "source": [
    "from buffers import ReplayBuffer\n",
    "from buffers.dataset import IndividualFileDataset, RingBufferDataset\n",
    "\n",
    "# Create our episode dataset like before.\n",
    "dataset = RingBufferDataset(capacity=500)\n",
    "\n",
    "# Create a second dataset to store experiences on overflow and extend our main dataset.\n",
    "disk_dataset = IndividualFileDataset(capacity=10000)\n",
    "dataset.extend(disk_dataset, other_num_workers=2)\n",
    "\n",
    "# Create a replay buffer to interact with the dataset.\n",
    "replay_buffer = ReplayBuffer(dataset, batch_size=32, sequence_length=8)"
   ]
  },
  {
   "cell_type": "code",
   "execution_count": 2,
   "id": "57fa4d7b-7206-4ea1-a9bb-6ce80966b65f",
   "metadata": {},
   "outputs": [
    {
     "name": "stderr",
     "output_type": "stream",
     "text": [
      "/home/user/mosbach/anaconda3/envs/lsa/lib/python3.10/site-packages/gym/utils/passive_env_checker.py:233: DeprecationWarning: `np.bool8` is a deprecated alias for `np.bool_`.  (Deprecated NumPy 1.24)\n",
      "  if not isinstance(terminated, (bool, np.bool8)):\n"
     ]
    },
    {
     "name": "stdout",
     "output_type": "stream",
     "text": [
      "RingBufferDataset(\n",
      "    num_episodes: 2\n",
      "    num_timesteps: 400\n",
      "    fields: ['obs', 'reward'] \n",
      ")\n",
      "IndividualFileDataset(\n",
      "    num_episodes: 5\n",
      "    num_timesteps: 1000\n",
      "    fields: ['obs', 'reward'] \n",
      ")\n"
     ]
    }
   ],
   "source": [
    "from utils import add_sample_data\n",
    "\n",
    "add_sample_data(replay_buffer)\n",
    "\n",
    "print(replay_buffer.dataset)\n",
    "print(replay_buffer.dataset.other_dataset)"
   ]
  },
  {
   "cell_type": "code",
   "execution_count": null,
   "id": "88c56e2f-5446-401b-8544-ca4b64ad693e",
   "metadata": {},
   "outputs": [],
   "source": []
  }
 ],
 "metadata": {
  "kernelspec": {
   "display_name": "Python 3 (ipykernel)",
   "language": "python",
   "name": "python3"
  },
  "language_info": {
   "codemirror_mode": {
    "name": "ipython",
    "version": 3
   },
   "file_extension": ".py",
   "mimetype": "text/x-python",
   "name": "python",
   "nbconvert_exporter": "python",
   "pygments_lexer": "ipython3",
   "version": "3.10.13"
  }
 },
 "nbformat": 4,
 "nbformat_minor": 5
}
